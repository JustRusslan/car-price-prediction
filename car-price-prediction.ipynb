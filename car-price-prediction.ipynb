{
 "cells": [
  {
   "cell_type": "markdown",
   "metadata": {},
   "source": [
    "---\n",
    "# 🚗 Car Price Prediction\n",
    "---"
   ]
  },
  {
   "cell_type": "markdown",
   "metadata": {
    "tags": []
   },
   "source": [
    "This project demonstrates a complete data-driven workflow for predicting used car prices using web scraping, data preprocessing, linear regression modeling and RandomForestRegressor.\n",
    "\n",
    "We collect data from the car listings site mashina.kg, clean it, encode categorical features, and train a model to estimate car prices based on various characteristics.\n"
   ]
  },
  {
   "cell_type": "markdown",
   "metadata": {
    "jp-MarkdownHeadingCollapsed": true,
    "tags": []
   },
   "source": [
    "#### 1. Scrape Data from Web\n",
    "Extract data from the provided website for a specific car model. The following features must be collected for each ad:"
   ]
  },
  {
   "cell_type": "markdown",
   "metadata": {
    "tags": []
   },
   "source": [
    "- `Car model`\n",
    "\n",
    "- `Year of production`\n",
    "\n",
    "- `Engine volume`\n",
    "\n",
    "- `Mileage`\n",
    "\n",
    "- `Fuel type`\n",
    "\n",
    "- `Gearbox mechanism`\n",
    "\n",
    "- `Steering wheel location` (left/right)\n",
    "\n",
    "- `Color`\n",
    "\n",
    "- `Body type` (e.g. sedan, SUV, wagon)\n",
    "\n",
    "- `Location` (city)\n",
    "\n",
    "- `Price in USD`\n",
    "\n",
    "Source: `https://www.mashina.kg/`"
   ]
  },
  {
   "cell_type": "markdown",
   "metadata": {
    "jp-MarkdownHeadingCollapsed": true,
    "tags": []
   },
   "source": [
    "#### 2. Prepare data for modelling"
   ]
  },
  {
   "cell_type": "markdown",
   "metadata": {},
   "source": [
    "- Convert numeric fields to appropriate types (int or float)\n",
    "\n",
    "- Handle missing values (e.g. by using mean, mode, or regression-based filling)\n",
    "\n",
    "- Encode categorical variables using:\n",
    "\n",
    "- Binary encoding (e.g. steering wheel left: 0, right: 1)\n",
    "\n",
    "- One-hot encoding (for features with more than 2 categories)"
   ]
  },
  {
   "cell_type": "markdown",
   "metadata": {
    "jp-MarkdownHeadingCollapsed": true,
    "tags": []
   },
   "source": [
    "#### 3. Train a Price Prediction Model"
   ]
  },
  {
   "cell_type": "markdown",
   "metadata": {},
   "source": [
    "Define `X` = all features except price\n",
    "\n",
    "Define `y` = target variable = price in USD\n",
    "\n",
    "Train a Linear Regression model and RandomForestRegressor\n",
    "\n",
    "Output the model's score and interpret the learned coefficients"
   ]
  },
  {
   "cell_type": "code",
   "execution_count": 1,
   "metadata": {},
   "outputs": [],
   "source": [
    "import pandas as pd\n",
    "import requests\n",
    "from sklearn.linear_model import LinearRegression\n",
    "from bs4 import BeautifulSoup\n",
    "from sklearn.model_selection import train_test_split\n",
    "from sklearn.ensemble import RandomForestRegressor\n",
    "from sklearn.metrics import r2_score"
   ]
  },
  {
   "cell_type": "code",
   "execution_count": 2,
   "metadata": {},
   "outputs": [],
   "source": [
    "# Initialize storage lists\n",
    "car_models = []\n",
    "year_of_productions = []\n",
    "engine_volumes = []\n",
    "mileages = []\n",
    "fuels = []\n",
    "gearbox_mechanisms = []\n",
    "steering_wheel_locations = []\n",
    "colors = []\n",
    "body_types = []\n",
    "locations = []\n",
    "prices_in_USD = []"
   ]
  },
  {
   "cell_type": "code",
   "execution_count": 3,
   "metadata": {
    "scrolled": true
   },
   "outputs": [],
   "source": [
    "# Loop through multiple pages\n",
    "for i in range(1, 33):\n",
    "    req = requests.get(f\"https://www.mashina.kg/search/toyota/?currency=2&price_from=&price_to=&page={i}\")\n",
    "    \n",
    "    html = req.text\n",
    "    soup = BeautifulSoup(html)\n",
    "    soup_pretty = soup.prettify()\n",
    "    \n",
    "    cars_all = soup.find_all('div', class_='list-item list-label')\n",
    "\n",
    "    for car in cars_all:\n",
    "        # Extract basic details\n",
    "        car_model = car.find('h2', class_='name').text.strip()\n",
    "        year_of_production = car.find('p', class_='year-miles').text.split()[0]\n",
    "\n",
    "        # Extract and convert engine volume\n",
    "        try:\n",
    "            engine_volume = car.find('p', class_='year-miles').text.split()[2]\n",
    "            engine_volume = float(engine_volume)\n",
    "        except:\n",
    "            engine_volume = None\n",
    "\n",
    "        # Extract gearbox\n",
    "        gearbox = car.find('p', class_='year-miles').text.split()[-1]\n",
    "\n",
    "        # Extract and convert mileage\n",
    "        try:\n",
    "            mileage = car.find('p', class_='volume').text.replace('\\n', '').split()[2]\n",
    "            mileage = float(mileage)\n",
    "        except:\n",
    "            mileage = None\n",
    "\n",
    "        # Other attributes\n",
    "        steering_wheel_location = car.find('p', class_='volume').text.split()[1].replace(',', '')\n",
    "        color = car.find('i')['title']\n",
    "        fuel = car.find('p', class_='body-type').text.strip().split()[-1]\n",
    "        body_type = car.find('p', class_='body-type').text.strip().split()[0].replace(',', '')\n",
    "        location = car.find('p', class_='city').text.split()[0]\n",
    "\n",
    "        # Price in USD\n",
    "        price_in_USD = car.find('div', class_='block price').find('strong').text.split()\n",
    "        price2 = ''\n",
    "        for j in range(1, len(price_in_USD)):\n",
    "            price2 += price_in_USD[j]\n",
    "\n",
    "        # Append all values\n",
    "        car_models.append(car_model)\n",
    "        year_of_productions.append(float(year_of_production))\n",
    "        engine_volumes.append(engine_volume)\n",
    "        mileages.append(mileage)\n",
    "        fuels.append(fuel)\n",
    "        colors.append(color)\n",
    "        gearbox_mechanisms.append(gearbox)\n",
    "        steering_wheel_locations.append(steering_wheel_location)\n",
    "        body_types.append(body_type)\n",
    "        locations.append(location)\n",
    "        prices_in_USD.append(float(price2))"
   ]
  },
  {
   "cell_type": "code",
   "execution_count": 4,
   "metadata": {},
   "outputs": [],
   "source": [
    "# Assemble the data into a DataFrame\n",
    "df = pd.DataFrame({\n",
    "    'Car model': car_models,\n",
    "    'Year of production': year_of_productions,\n",
    "    'Engine volume': engine_volumes,\n",
    "    'Mileage': mileages,\n",
    "    'Fuel': fuels,\n",
    "    'Gearbox mechanism': gearbox_mechanisms,\n",
    "    'Steering wheel location': steering_wheel_locations,\n",
    "    'Color': colors,\n",
    "    'Body type': body_types,\n",
    "    'Location': locations,\n",
    "    'Price in USD': prices_in_USD\n",
    "})"
   ]
  },
  {
   "cell_type": "code",
   "execution_count": 5,
   "metadata": {
    "scrolled": true
   },
   "outputs": [
    {
     "data": {
      "text/html": [
       "<div>\n",
       "<style scoped>\n",
       "    .dataframe tbody tr th:only-of-type {\n",
       "        vertical-align: middle;\n",
       "    }\n",
       "\n",
       "    .dataframe tbody tr th {\n",
       "        vertical-align: top;\n",
       "    }\n",
       "\n",
       "    .dataframe thead th {\n",
       "        text-align: right;\n",
       "    }\n",
       "</style>\n",
       "<table border=\"1\" class=\"dataframe\">\n",
       "  <thead>\n",
       "    <tr style=\"text-align: right;\">\n",
       "      <th></th>\n",
       "      <th>Car model</th>\n",
       "      <th>Year of production</th>\n",
       "      <th>Engine volume</th>\n",
       "      <th>Mileage</th>\n",
       "      <th>Fuel</th>\n",
       "      <th>Gearbox mechanism</th>\n",
       "      <th>Steering wheel location</th>\n",
       "      <th>Color</th>\n",
       "      <th>Body type</th>\n",
       "      <th>Location</th>\n",
       "      <th>Price in USD</th>\n",
       "    </tr>\n",
       "  </thead>\n",
       "  <tbody>\n",
       "    <tr>\n",
       "      <th>0</th>\n",
       "      <td>Toyota RAV4</td>\n",
       "      <td>2017.0</td>\n",
       "      <td>2.5</td>\n",
       "      <td>180.0</td>\n",
       "      <td>бензин</td>\n",
       "      <td>автомат</td>\n",
       "      <td>слева</td>\n",
       "      <td>белый</td>\n",
       "      <td>внедорожник</td>\n",
       "      <td>Бишкек</td>\n",
       "      <td>18500.0</td>\n",
       "    </tr>\n",
       "    <tr>\n",
       "      <th>1</th>\n",
       "      <td>Toyota RAV4</td>\n",
       "      <td>2021.0</td>\n",
       "      <td>2.5</td>\n",
       "      <td>95.0</td>\n",
       "      <td>гибрид</td>\n",
       "      <td>автомат</td>\n",
       "      <td>слева</td>\n",
       "      <td>белый</td>\n",
       "      <td>внедорожник</td>\n",
       "      <td>Бишкек</td>\n",
       "      <td>35000.0</td>\n",
       "    </tr>\n",
       "    <tr>\n",
       "      <th>2</th>\n",
       "      <td>Toyota Camry</td>\n",
       "      <td>2022.0</td>\n",
       "      <td>2.0</td>\n",
       "      <td>4.0</td>\n",
       "      <td>бензин</td>\n",
       "      <td>вариатор</td>\n",
       "      <td>слева</td>\n",
       "      <td>белый</td>\n",
       "      <td>седан</td>\n",
       "      <td>Бишкек</td>\n",
       "      <td>27000.0</td>\n",
       "    </tr>\n",
       "    <tr>\n",
       "      <th>3</th>\n",
       "      <td>Toyota C-HR</td>\n",
       "      <td>2023.0</td>\n",
       "      <td>2.0</td>\n",
       "      <td>7.0</td>\n",
       "      <td>бензин</td>\n",
       "      <td>вариатор</td>\n",
       "      <td>слева</td>\n",
       "      <td>белый</td>\n",
       "      <td>внедорожник</td>\n",
       "      <td>Бишкек</td>\n",
       "      <td>23750.0</td>\n",
       "    </tr>\n",
       "    <tr>\n",
       "      <th>4</th>\n",
       "      <td>Toyota Camry</td>\n",
       "      <td>2021.0</td>\n",
       "      <td>2.5</td>\n",
       "      <td>105.0</td>\n",
       "      <td>бензин</td>\n",
       "      <td>автомат</td>\n",
       "      <td>слева</td>\n",
       "      <td>белый</td>\n",
       "      <td>седан</td>\n",
       "      <td>Джалал-Абад</td>\n",
       "      <td>20500.0</td>\n",
       "    </tr>\n",
       "  </tbody>\n",
       "</table>\n",
       "</div>"
      ],
      "text/plain": [
       "      Car model  Year of production  Engine volume  Mileage    Fuel  \\\n",
       "0   Toyota RAV4              2017.0            2.5    180.0  бензин   \n",
       "1   Toyota RAV4              2021.0            2.5     95.0  гибрид   \n",
       "2  Toyota Camry              2022.0            2.0      4.0  бензин   \n",
       "3   Toyota C-HR              2023.0            2.0      7.0  бензин   \n",
       "4  Toyota Camry              2021.0            2.5    105.0  бензин   \n",
       "\n",
       "  Gearbox mechanism Steering wheel location  Color    Body type     Location  \\\n",
       "0           автомат                   слева  белый  внедорожник       Бишкек   \n",
       "1           автомат                   слева  белый  внедорожник       Бишкек   \n",
       "2          вариатор                   слева  белый        седан       Бишкек   \n",
       "3          вариатор                   слева  белый  внедорожник       Бишкек   \n",
       "4           автомат                   слева  белый        седан  Джалал-Абад   \n",
       "\n",
       "   Price in USD  \n",
       "0       18500.0  \n",
       "1       35000.0  \n",
       "2       27000.0  \n",
       "3       23750.0  \n",
       "4       20500.0  "
      ]
     },
     "execution_count": 5,
     "metadata": {},
     "output_type": "execute_result"
    }
   ],
   "source": [
    "df.head()"
   ]
  },
  {
   "cell_type": "code",
   "execution_count": 6,
   "metadata": {},
   "outputs": [
    {
     "data": {
      "text/html": [
       "<div>\n",
       "<style scoped>\n",
       "    .dataframe tbody tr th:only-of-type {\n",
       "        vertical-align: middle;\n",
       "    }\n",
       "\n",
       "    .dataframe tbody tr th {\n",
       "        vertical-align: top;\n",
       "    }\n",
       "\n",
       "    .dataframe thead th {\n",
       "        text-align: right;\n",
       "    }\n",
       "</style>\n",
       "<table border=\"1\" class=\"dataframe\">\n",
       "  <thead>\n",
       "    <tr style=\"text-align: right;\">\n",
       "      <th></th>\n",
       "      <th>Year of production</th>\n",
       "      <th>Engine volume</th>\n",
       "      <th>Mileage</th>\n",
       "      <th>Price in USD</th>\n",
       "    </tr>\n",
       "  </thead>\n",
       "  <tbody>\n",
       "    <tr>\n",
       "      <th>count</th>\n",
       "      <td>640.000000</td>\n",
       "      <td>638.000000</td>\n",
       "      <td>634.000000</td>\n",
       "      <td>640.000000</td>\n",
       "    </tr>\n",
       "    <tr>\n",
       "      <th>mean</th>\n",
       "      <td>2014.825000</td>\n",
       "      <td>2.573668</td>\n",
       "      <td>139.853312</td>\n",
       "      <td>22743.020313</td>\n",
       "    </tr>\n",
       "    <tr>\n",
       "      <th>std</th>\n",
       "      <td>7.922789</td>\n",
       "      <td>0.808372</td>\n",
       "      <td>102.642998</td>\n",
       "      <td>16802.972862</td>\n",
       "    </tr>\n",
       "    <tr>\n",
       "      <th>min</th>\n",
       "      <td>1989.000000</td>\n",
       "      <td>1.000000</td>\n",
       "      <td>1.000000</td>\n",
       "      <td>685.000000</td>\n",
       "    </tr>\n",
       "    <tr>\n",
       "      <th>25%</th>\n",
       "      <td>2007.000000</td>\n",
       "      <td>2.000000</td>\n",
       "      <td>50.000000</td>\n",
       "      <td>11500.000000</td>\n",
       "    </tr>\n",
       "    <tr>\n",
       "      <th>50%</th>\n",
       "      <td>2018.000000</td>\n",
       "      <td>2.500000</td>\n",
       "      <td>123.000000</td>\n",
       "      <td>19400.000000</td>\n",
       "    </tr>\n",
       "    <tr>\n",
       "      <th>75%</th>\n",
       "      <td>2021.000000</td>\n",
       "      <td>2.500000</td>\n",
       "      <td>210.750000</td>\n",
       "      <td>27825.000000</td>\n",
       "    </tr>\n",
       "    <tr>\n",
       "      <th>max</th>\n",
       "      <td>2025.000000</td>\n",
       "      <td>5.700000</td>\n",
       "      <td>532.000000</td>\n",
       "      <td>122000.000000</td>\n",
       "    </tr>\n",
       "  </tbody>\n",
       "</table>\n",
       "</div>"
      ],
      "text/plain": [
       "       Year of production  Engine volume     Mileage   Price in USD\n",
       "count          640.000000     638.000000  634.000000     640.000000\n",
       "mean          2014.825000       2.573668  139.853312   22743.020313\n",
       "std              7.922789       0.808372  102.642998   16802.972862\n",
       "min           1989.000000       1.000000    1.000000     685.000000\n",
       "25%           2007.000000       2.000000   50.000000   11500.000000\n",
       "50%           2018.000000       2.500000  123.000000   19400.000000\n",
       "75%           2021.000000       2.500000  210.750000   27825.000000\n",
       "max           2025.000000       5.700000  532.000000  122000.000000"
      ]
     },
     "execution_count": 6,
     "metadata": {},
     "output_type": "execute_result"
    }
   ],
   "source": [
    "# Display summary statistics for numeric features\n",
    "df.describe()"
   ]
  },
  {
   "cell_type": "code",
   "execution_count": 7,
   "metadata": {},
   "outputs": [
    {
     "data": {
      "text/plain": [
       "Car model                  0\n",
       "Year of production         0\n",
       "Engine volume              2\n",
       "Mileage                    6\n",
       "Fuel                       0\n",
       "Gearbox mechanism          0\n",
       "Steering wheel location    0\n",
       "Color                      0\n",
       "Body type                  0\n",
       "Location                   0\n",
       "Price in USD               0\n",
       "dtype: int64"
      ]
     },
     "execution_count": 7,
     "metadata": {},
     "output_type": "execute_result"
    }
   ],
   "source": [
    "# Count missing values per column\n",
    "df.isna().sum()"
   ]
  },
  {
   "cell_type": "markdown",
   "metadata": {},
   "source": [
    "#### 🧼 Data Preprocessing\n",
    "We handle missing values and prepare the dataset for modeling."
   ]
  },
  {
   "cell_type": "code",
   "execution_count": 8,
   "metadata": {},
   "outputs": [],
   "source": [
    "# Fill missing mileage values with the mean\n",
    "df['Mileage'] = df['Mileage'].fillna(value=df['Mileage'].mean())\n",
    "\n",
    "# Fill missing engine volume values with the median\n",
    "df['Engine volume'] = df['Engine volume'].fillna(value=df['Engine volume'].median())"
   ]
  },
  {
   "cell_type": "markdown",
   "metadata": {},
   "source": [
    "#### 🔢 Encode Categorical Variables (Integer Mapping)\n",
    "We map categorical string values to integers using dictionaries, which makes them ready for regression modeling."
   ]
  },
  {
   "cell_type": "code",
   "execution_count": 9,
   "metadata": {},
   "outputs": [],
   "source": [
    "# Label encode gearbox mechanism\n",
    "gearbox_mapping = {\n",
    "    'автомат': 0,\n",
    "    'вариатор': 1,\n",
    "    'механика': 2,\n",
    "    'робот': 3 \n",
    "}\n",
    "df['Gearbox mechanism'] = df['Gearbox mechanism'].map(gearbox_mapping)\n",
    "\n",
    "# Label encode steering wheel location\n",
    "steering_mapping = {\n",
    "    'слева': 0,\n",
    "    'справа': 1\n",
    "}\n",
    "df['Steering wheel location'] = df['Steering wheel location'].map(steering_mapping)\n",
    "\n",
    "# Label encode fuel type\n",
    "fuel_mapping = {\n",
    "    'бензин': 0,\n",
    "    'гибрид': 1,\n",
    "    'дизель': 2,\n",
    "    'электро': 3\n",
    "}\n",
    "df['Fuel'] = df['Fuel'].map(fuel_mapping)"
   ]
  },
  {
   "cell_type": "markdown",
   "metadata": {},
   "source": [
    "#### 🧹 Drop Unused Columns\n",
    "Some features are excluded from the model, such as textual descriptions, city names, and colors."
   ]
  },
  {
   "cell_type": "code",
   "execution_count": 10,
   "metadata": {},
   "outputs": [],
   "source": [
    "# Drop irrelevant or complex categorical columns\n",
    "df = df.drop(columns=['Car model', 'Color', 'Body type', 'Location'])"
   ]
  },
  {
   "cell_type": "code",
   "execution_count": 11,
   "metadata": {
    "scrolled": true
   },
   "outputs": [
    {
     "data": {
      "text/html": [
       "<div>\n",
       "<style scoped>\n",
       "    .dataframe tbody tr th:only-of-type {\n",
       "        vertical-align: middle;\n",
       "    }\n",
       "\n",
       "    .dataframe tbody tr th {\n",
       "        vertical-align: top;\n",
       "    }\n",
       "\n",
       "    .dataframe thead th {\n",
       "        text-align: right;\n",
       "    }\n",
       "</style>\n",
       "<table border=\"1\" class=\"dataframe\">\n",
       "  <thead>\n",
       "    <tr style=\"text-align: right;\">\n",
       "      <th></th>\n",
       "      <th>Year of production</th>\n",
       "      <th>Engine volume</th>\n",
       "      <th>Mileage</th>\n",
       "      <th>Fuel</th>\n",
       "      <th>Gearbox mechanism</th>\n",
       "      <th>Steering wheel location</th>\n",
       "      <th>Price in USD</th>\n",
       "    </tr>\n",
       "  </thead>\n",
       "  <tbody>\n",
       "    <tr>\n",
       "      <th>0</th>\n",
       "      <td>2017.0</td>\n",
       "      <td>2.5</td>\n",
       "      <td>180.0</td>\n",
       "      <td>0</td>\n",
       "      <td>0</td>\n",
       "      <td>0</td>\n",
       "      <td>18500.0</td>\n",
       "    </tr>\n",
       "    <tr>\n",
       "      <th>1</th>\n",
       "      <td>2021.0</td>\n",
       "      <td>2.5</td>\n",
       "      <td>95.0</td>\n",
       "      <td>1</td>\n",
       "      <td>0</td>\n",
       "      <td>0</td>\n",
       "      <td>35000.0</td>\n",
       "    </tr>\n",
       "    <tr>\n",
       "      <th>2</th>\n",
       "      <td>2022.0</td>\n",
       "      <td>2.0</td>\n",
       "      <td>4.0</td>\n",
       "      <td>0</td>\n",
       "      <td>1</td>\n",
       "      <td>0</td>\n",
       "      <td>27000.0</td>\n",
       "    </tr>\n",
       "    <tr>\n",
       "      <th>3</th>\n",
       "      <td>2023.0</td>\n",
       "      <td>2.0</td>\n",
       "      <td>7.0</td>\n",
       "      <td>0</td>\n",
       "      <td>1</td>\n",
       "      <td>0</td>\n",
       "      <td>23750.0</td>\n",
       "    </tr>\n",
       "    <tr>\n",
       "      <th>4</th>\n",
       "      <td>2021.0</td>\n",
       "      <td>2.5</td>\n",
       "      <td>105.0</td>\n",
       "      <td>0</td>\n",
       "      <td>0</td>\n",
       "      <td>0</td>\n",
       "      <td>20500.0</td>\n",
       "    </tr>\n",
       "  </tbody>\n",
       "</table>\n",
       "</div>"
      ],
      "text/plain": [
       "   Year of production  Engine volume  Mileage  Fuel  Gearbox mechanism  \\\n",
       "0              2017.0            2.5    180.0     0                  0   \n",
       "1              2021.0            2.5     95.0     1                  0   \n",
       "2              2022.0            2.0      4.0     0                  1   \n",
       "3              2023.0            2.0      7.0     0                  1   \n",
       "4              2021.0            2.5    105.0     0                  0   \n",
       "\n",
       "   Steering wheel location  Price in USD  \n",
       "0                        0       18500.0  \n",
       "1                        0       35000.0  \n",
       "2                        0       27000.0  \n",
       "3                        0       23750.0  \n",
       "4                        0       20500.0  "
      ]
     },
     "execution_count": 11,
     "metadata": {},
     "output_type": "execute_result"
    }
   ],
   "source": [
    "# preview cleaned dataset\n",
    "df.head()  "
   ]
  },
  {
   "cell_type": "markdown",
   "metadata": {},
   "source": [
    "#### 🔀 Prepare Features and Target\n",
    "We define the feature matrix X and the target variable y."
   ]
  },
  {
   "cell_type": "code",
   "execution_count": 12,
   "metadata": {
    "scrolled": false
   },
   "outputs": [],
   "source": [
    "X = df.copy()\n",
    "y = X.pop('Price in USD')"
   ]
  },
  {
   "cell_type": "markdown",
   "metadata": {},
   "source": [
    "#### 🔍 Linear Regression (Baseline Model)\n",
    "We start with a simple linear regression model to establish a baseline."
   ]
  },
  {
   "cell_type": "code",
   "execution_count": 14,
   "metadata": {
    "scrolled": false
   },
   "outputs": [
    {
     "data": {
      "text/plain": [
       "0.5385280889274131"
      ]
     },
     "execution_count": 14,
     "metadata": {},
     "output_type": "execute_result"
    }
   ],
   "source": [
    "model = LinearRegression()\n",
    "model.fit(X, y)\n",
    "\n",
    "# Evaluate model\n",
    "model.score(X, y)"
   ]
  },
  {
   "cell_type": "code",
   "execution_count": 15,
   "metadata": {},
   "outputs": [
    {
     "data": {
      "text/plain": [
       "array([ 1101.82696731,  9415.61085307,   -17.03326883,  1926.17177014,\n",
       "       -1475.75899533,  3112.01123126])"
      ]
     },
     "execution_count": 15,
     "metadata": {},
     "output_type": "execute_result"
    }
   ],
   "source": [
    "model.coef_"
   ]
  },
  {
   "cell_type": "markdown",
   "metadata": {},
   "source": [
    "#### 🌲 Random Forest Regressor (with Train/Test Split)\n",
    "We use a tree-based model that captures nonlinear relationships better and evaluate it using a holdout test set."
   ]
  },
  {
   "cell_type": "code",
   "execution_count": 16,
   "metadata": {},
   "outputs": [
    {
     "name": "stdout",
     "output_type": "stream",
     "text": [
      "Test R² Score: 0.9169\n"
     ]
    }
   ],
   "source": [
    "# 1. Split data\n",
    "X_train, X_test, y_train, y_test = train_test_split(\n",
    "    X, y, test_size=0.2, random_state=42\n",
    ")\n",
    "\n",
    "# 2. Initialize model\n",
    "rf_model = RandomForestRegressor(\n",
    "    n_estimators=100, max_depth=10, random_state=42\n",
    ")\n",
    "\n",
    "# 3. Train the model\n",
    "rf_model.fit(X_train, y_train)\n",
    "\n",
    "# 4. Predict on test set\n",
    "y_pred = rf_model.predict(X_test)\n",
    "\n",
    "# 5. Evaluate performance\n",
    "r2_test = r2_score(y_test, y_pred)\n",
    "print(f\"Test R² Score: {r2_test:.4f}\")"
   ]
  },
  {
   "cell_type": "markdown",
   "metadata": {},
   "source": [
    "### 📊 Feature Importance Visualization\n",
    "Random Forest gives us insight into how important each feature is for predicting car prices. We’ll extract and visualize the feature importances."
   ]
  },
  {
   "cell_type": "code",
   "execution_count": 17,
   "metadata": {},
   "outputs": [
    {
     "data": {
      "image/png": "[encoded data removed]",
      "text/plain": [
       "<Figure size 1000x600 with 1 Axes>"
      ]
     },
     "metadata": {},
     "output_type": "display_data"
    }
   ],
   "source": [
    "import matplotlib.pyplot as plt\n",
    "import seaborn as sns\n",
    "\n",
    "# Extract feature importances\n",
    "importances = rf_model.feature_importances_\n",
    "feature_names = X.columns\n",
    "\n",
    "# Create a DataFrame for visualization\n",
    "feature_df = pd.DataFrame({\n",
    "    'Feature': feature_names,\n",
    "    'Importance': importances\n",
    "}).sort_values(by='Importance', ascending=False)\n",
    "\n",
    "# Plot\n",
    "plt.figure(figsize=(10, 6))\n",
    "sns.barplot(data=feature_df, x='Importance', y='Feature', palette='viridis')\n",
    "plt.title('Feature Importance in Car Price Prediction')\n",
    "plt.xlabel('Importance Score')\n",
    "plt.ylabel('Feature')\n",
    "plt.tight_layout()\n",
    "plt.show()"
   ]
  }
 ],
 "metadata": {
  "kernelspec": {
   "display_name": "Python 3 (ipykernel)",
   "language": "python",
   "name": "python3"
  },
  "language_info": {
   "codemirror_mode": {
    "name": "ipython",
    "version": 3
   },
   "file_extension": ".py",
   "mimetype": "text/x-python",
   "name": "python",
   "nbconvert_exporter": "python",
   "pygments_lexer": "ipython3",
   "version": "3.9.18"
  }
 },
 "nbformat": 4,
 "nbformat_minor": 4
}
